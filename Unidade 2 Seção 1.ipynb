{
  "nbformat": 4,
  "nbformat_minor": 0,
  "metadata": {
    "colab": {
      "provenance": [],
      "authorship_tag": "ABX9TyPx5Hxt+sDQxxPCLDKmc9xm",
      "include_colab_link": true
    },
    "kernelspec": {
      "name": "python3",
      "display_name": "Python 3"
    },
    "language_info": {
      "name": "python"
    }
  },
  "cells": [
    {
      "cell_type": "markdown",
      "metadata": {
        "id": "view-in-github",
        "colab_type": "text"
      },
      "source": [
        "<a href=\"https://colab.research.google.com/github/paulohenriquedutra/Python-exercicios/blob/main/Unidade%202%20Se%C3%A7%C3%A3o%201.ipynb\" target=\"_parent\"><img src=\"https://colab.research.google.com/assets/colab-badge.svg\" alt=\"Open In Colab\"/></a>"
      ]
    },
    {
      "cell_type": "markdown",
      "source": [
        "Linguagem de Programação U2 Seção 1"
      ],
      "metadata": {
        "id": "2dHSXC_YdWqn"
      }
    },
    {
      "cell_type": "code",
      "source": [
        "texto = 'Aprendendo Python na disciplina de linguagem de programação'\n",
        "print(f'Tamanho do texto = {len(texto)}')\n",
        "print(f'Python está na variavel texto = {\"Python\" in texto}')\n",
        "print(f'Quantidade de y no texto = {texto.count(\"y\")}')\n",
        "print(f'As 5 primeiras letras são = {texto [0:5]}')"
      ],
      "metadata": {
        "colab": {
          "base_uri": "https://localhost:8080/"
        },
        "id": "ts366j3wddeX",
        "outputId": "e6b33e43-d962-46b0-a673-1d6b6534a488"
      },
      "execution_count": null,
      "outputs": [
        {
          "output_type": "stream",
          "name": "stdout",
          "text": [
            "Tamanho do texto = 59\n",
            "Python está na variavel texto = True\n",
            "Quantidade de y no texto = 1\n",
            "As 5 primeiras letras são = Apren\n"
          ]
        }
      ]
    },
    {
      "cell_type": "code",
      "source": [
        "texto =  'Aprendendo Python na disciplina de linguagem de programação'\n",
        "print(texto.upper())\n",
        "print(texto.replace(\"i\", \"XX\"))"
      ],
      "metadata": {
        "colab": {
          "base_uri": "https://localhost:8080/"
        },
        "id": "1IpJk88GfXZn",
        "outputId": "d209dcf4-dc84-401a-e609-86fb7a09c9d3"
      },
      "execution_count": null,
      "outputs": [
        {
          "output_type": "stream",
          "name": "stdout",
          "text": [
            "APRENDENDO PYTHON NA DISCIPLINA DE LINGUAGEM DE PROGRAMAÇÃO\n",
            "Aprendendo Python na dXXscXXplXXna de lXXnguagem de programação\n"
          ]
        }
      ]
    },
    {
      "cell_type": "code",
      "source": [
        "texto = 'Aprendendo Python na disciplina de linguagem de programação'\n",
        "print(f'Texto = {texto}')\n",
        "print(f'Tamanho do texto = {len(texto)}\\n')\n",
        "\n",
        "palavras = texto.split()\n",
        "print(f'palavras = {palavras}')\n",
        "print(f'Tamanho de palavras ={len(palavras)}')\n"
      ],
      "metadata": {
        "colab": {
          "base_uri": "https://localhost:8080/"
        },
        "id": "6gji_dLmhFFO",
        "outputId": "e5364119-ed19-41bb-d8a3-a317aaa562ac"
      },
      "execution_count": null,
      "outputs": [
        {
          "output_type": "stream",
          "name": "stdout",
          "text": [
            "Texto = Aprendendo Python na disciplina de linguagem de programação\n",
            "Tamanho do texto = 59\n",
            "\n",
            "palavras = ['Aprendendo', 'Python', 'na', 'disciplina', 'de', 'linguagem', 'de', 'programação']\n",
            "Tamanho de palavras =8\n"
          ]
        }
      ]
    },
    {
      "cell_type": "code",
      "source": [
        "texto = '''Operadores de String\n",
        "Python oferece operadores para processar texto (ou seja, valores de\n",
        "string).\n",
        "Assim como os números, as strings podem ser comparadas usando operadores\n",
        "de comparação:\n",
        "==, !=, <, > e assim por diante.\n",
        "O operador ==, por exemplo, retorna True se as strings nos dois lados do\n",
        "operador tiverem o mesmo valor (Perkovic, p. 23, 2016).\n",
        "'''\n",
        "print(f\"Tamanho do texto = {len(texto)}\")\n",
        "texto.lower()\n",
        "texto = texto.replace(\",\", \"\").replace(\".\", \"\").replace(\"(\",\n",
        "\"\").replace(\")\", \"\").replace(\"\\n\", \" \")\n",
        "lista_palavras = texto.split()\n",
        "print(f\"Tamanho da lista de palavras = {len(lista_palavras)}\")\n",
        "total = lista_palavras.count(\"string\") + lista_palavras.count(\"strings\")\n",
        "print(f\"Quantidade de vezes que string ou strings aparecem = {total}\")"
      ],
      "metadata": {
        "colab": {
          "base_uri": "https://localhost:8080/"
        },
        "id": "IQ-IpQXthmuO",
        "outputId": "60523f88-7193-4e8c-dc00-ffac76cdaca4"
      },
      "execution_count": null,
      "outputs": [
        {
          "output_type": "stream",
          "name": "stdout",
          "text": [
            "Tamanho do texto = 348\n",
            "Tamanho da lista de palavras = 58\n",
            "Quantidade de vezes que string ou strings aparecem = 3\n"
          ]
        }
      ]
    },
    {
      "cell_type": "code",
      "source": [
        "vogais = ['a', 'e', 'i', 'o', 'u']\n",
        "\n",
        "for vogal in vogais:\n",
        " print (f'Posição = {vogais.index(vogal)}, valor = {vogal}')"
      ],
      "metadata": {
        "colab": {
          "base_uri": "https://localhost:8080/"
        },
        "id": "lo10gguKkNPd",
        "outputId": "c51c5f2a-432b-4e3d-a60d-f9e89e774a93"
      },
      "execution_count": null,
      "outputs": [
        {
          "output_type": "stream",
          "name": "stdout",
          "text": [
            "Posição = 0, valor = a\n",
            "Posição = 1, valor = e\n",
            "Posição = 2, valor = i\n",
            "Posição = 3, valor = o\n",
            "Posição = 4, valor = u\n"
          ]
        }
      ]
    },
    {
      "cell_type": "code",
      "source": [
        "vogais = []\n",
        "print(f\"Tipo do objeto vogais = {type(vogais)}\")\n",
        "vogais.append('a')\n",
        "vogais.append('e')\n",
        "vogais.append('i')\n",
        "vogais.append('o')\n",
        "vogais.append('u')\n",
        "for p, x in enumerate(vogais):\n",
        " print(f\"Posição = {p}, valor = {x}\")"
      ],
      "metadata": {
        "colab": {
          "base_uri": "https://localhost:8080/"
        },
        "id": "x0b4P3NCkzG8",
        "outputId": "e2bb6cae-40bf-4380-ea93-f946ac6dd119"
      },
      "execution_count": null,
      "outputs": [
        {
          "output_type": "stream",
          "name": "stdout",
          "text": [
            "Tipo do objeto vogais = <class 'list'>\n",
            "Posição = 0, valor = a\n",
            "Posição = 1, valor = e\n",
            "Posição = 2, valor = i\n",
            "Posição = 3, valor = o\n",
            "Posição = 4, valor = u\n"
          ]
        }
      ]
    },
    {
      "cell_type": "code",
      "source": [
        "frutas = [\"maça\", \"banana\", \"uva\", \"mamão\", \"maça\"]\n",
        "notas = [8.7, 5.2, 10, 3.5]\n",
        "print(\"maça\" in frutas) # True\n",
        "print(\"abacate\" in frutas) # False\n",
        "print(\"abacate\" not in frutas) # True\n",
        "print(min(frutas)) # banana\n",
        "print(max(notas)) # 10\n",
        "print(frutas.count(\"maça\")) # 2\n",
        "print(frutas + notas)\n",
        "print(2 * frutas)\n"
      ],
      "metadata": {
        "colab": {
          "base_uri": "https://localhost:8080/"
        },
        "id": "JA870-22k71-",
        "outputId": "5d193115-6fd0-4efb-96fc-4573afcb1757"
      },
      "execution_count": null,
      "outputs": [
        {
          "output_type": "stream",
          "name": "stdout",
          "text": [
            "True\n",
            "False\n",
            "True\n",
            "banana\n",
            "10\n",
            "2\n",
            "['maça', 'banana', 'uva', 'mamão', 'maça', 8.7, 5.2, 10, 3.5]\n",
            "['maça', 'banana', 'uva', 'mamão', 'maça', 'maça', 'banana', 'uva', 'mamão', 'maça']\n"
          ]
        }
      ]
    },
    {
      "cell_type": "code",
      "source": [
        "lista = ['Python', 30.61, \"Java\", 51 , ['a', 'b', 20], \"maça\"]\n",
        "lista = ['Python', 30.61, \"Java\", 51 , ['a', 'b', 20], \"maça\"]\n",
        "print(f\"Tamanho da lista = {len(lista)}\")\n",
        "for i, item in enumerate(lista):\n",
        "    print(f\"Posição = {i},\\t valor = {item} -----------------> tipo individual = {type(item)}\")\n",
        "\n",
        "print(\"\\nExemplos de slices:\\n\")\n",
        "print(\"lista[1] = \", lista[1])\n",
        "print(\"lista[0:2] = \", lista[0:2])\n",
        "print(\"lista[:2] = \", lista[:2])\n",
        "print(\"lista[3:5] = \", lista[3:5])\n",
        "print(\"lista[3:6] = \", lista[3:6])\n",
        "print(\"lista[3:] = \", lista[3:])\n",
        "print(\"lista[-2] = \", lista[-2])\n",
        "print(\"lista[-1] = \", lista[-1])\n",
        "print(\"lista[4][1] = \", lista[4][1])\n",
        "print(\"\\nExemplos de slices:\\n\")\n",
        "print(\"lista[1] = \", lista[1])\n",
        "print(\"lista[0:2] = \", lista[0:2])\n",
        "print(\"lista[:2] = \", lista[:2])\n",
        "print(\"lista[3:5] = \", lista[3:5])\n",
        "print(\"lista[3:6] = \", lista[3:6])\n",
        "print(\"lista[3:] = \", lista[3:])\n",
        "print(\"lista[-2] = \", lista[-2])\n",
        "print(\"lista[-1] = \", lista[-1])\n",
        "print(\"lista[4][1] = \", lista[4][1])"
      ],
      "metadata": {
        "colab": {
          "base_uri": "https://localhost:8080/"
        },
        "id": "G5AQrmxxlJPc",
        "outputId": "6868bbb0-a9d4-4f3b-8ee4-960050127977"
      },
      "execution_count": null,
      "outputs": [
        {
          "output_type": "stream",
          "name": "stdout",
          "text": [
            "Tamanho da lista = 6\n",
            "Posição = 0,\t valor = Python -----------------> tipo individual = <class 'str'>\n",
            "Posição = 1,\t valor = 30.61 -----------------> tipo individual = <class 'float'>\n",
            "Posição = 2,\t valor = Java -----------------> tipo individual = <class 'str'>\n",
            "Posição = 3,\t valor = 51 -----------------> tipo individual = <class 'int'>\n",
            "Posição = 4,\t valor = ['a', 'b', 20] -----------------> tipo individual = <class 'list'>\n",
            "Posição = 5,\t valor = maça -----------------> tipo individual = <class 'str'>\n",
            "\n",
            "Exemplos de slices:\n",
            "\n",
            "lista[1] =  30.61\n",
            "lista[0:2] =  ['Python', 30.61]\n",
            "lista[:2] =  ['Python', 30.61]\n",
            "lista[3:5] =  [51, ['a', 'b', 20]]\n",
            "lista[3:6] =  [51, ['a', 'b', 20], 'maça']\n",
            "lista[3:] =  [51, ['a', 'b', 20], 'maça']\n",
            "lista[-2] =  ['a', 'b', 20]\n",
            "lista[-1] =  maça\n",
            "lista[4][1] =  b\n",
            "\n",
            "Exemplos de slices:\n",
            "\n",
            "lista[1] =  30.61\n",
            "lista[0:2] =  ['Python', 30.61]\n",
            "lista[:2] =  ['Python', 30.61]\n",
            "lista[3:5] =  [51, ['a', 'b', 20]]\n",
            "lista[3:6] =  [51, ['a', 'b', 20], 'maça']\n",
            "lista[3:] =  [51, ['a', 'b', 20], 'maça']\n",
            "lista[-2] =  ['a', 'b', 20]\n",
            "lista[-1] =  maça\n",
            "lista[4][1] =  b\n"
          ]
        }
      ]
    },
    {
      "cell_type": "code",
      "source": [
        "linguagens = [\"Python\", \"Java\", \"JavaScript\", \"C\", \"C#\", \"C++\", \"Swift\", \"Go\",\n",
        "\"Kotlin\"]\n",
        "\n",
        "print(\"Antes da listcomp = \", linguagens)\n",
        "linguagens = [item.lower() for item in linguagens]\n",
        "print(\"\\nDepois da listcomp = \", linguagens)"
      ],
      "metadata": {
        "colab": {
          "base_uri": "https://localhost:8080/"
        },
        "id": "Gy73RswllaX1",
        "outputId": "cfb6c462-33a0-4740-822a-3171aa598658"
      },
      "execution_count": null,
      "outputs": [
        {
          "output_type": "stream",
          "name": "stdout",
          "text": [
            "Antes da listcomp =  ['Python', 'Java', 'JavaScript', 'C', 'C#', 'C++', 'Swift', 'Go', 'Kotlin']\n",
            "\n",
            "Depois da listcomp =  ['python', 'java', 'javascript', 'c', 'c#', 'c++', 'swift', 'go', 'kotlin']\n"
          ]
        }
      ]
    },
    {
      "cell_type": "code",
      "source": [
        "linguagens = '''Python Java JavaScript C C# C++ Swift Go Kotlin'''.split()\n",
        "print(\"Antes da listcomp = \", linguagens)\n",
        "for i, item in enumerate(linguagens):\n",
        " linguagens[i] = item.lower()\n",
        "\n",
        "print(\"\\nDepois da listcomp = \", linguagens)"
      ],
      "metadata": {
        "colab": {
          "base_uri": "https://localhost:8080/"
        },
        "id": "NcMMVeNWlgsc",
        "outputId": "8e737c12-1de5-415f-d609-b6d08bf498e5"
      },
      "execution_count": null,
      "outputs": [
        {
          "output_type": "stream",
          "name": "stdout",
          "text": [
            "Antes da listcomp =  ['Python', 'Java', 'JavaScript', 'C', 'C#', 'C++', 'Swift', 'Go', 'Kotlin']\n",
            "\n",
            "Depois da listcomp =  ['python', 'java', 'javascript', 'c', 'c#', 'c++', 'swift', 'go', 'kotlin']\n"
          ]
        }
      ]
    },
    {
      "cell_type": "code",
      "source": [
        "linguagens = '''Python Java JavaScript C C# C++ Swift Go Kotlin'''.split()\n",
        "linguagens_java = [item for item in linguagens if \"Java\" in item]\n",
        "print(linguagens_java)"
      ],
      "metadata": {
        "colab": {
          "base_uri": "https://localhost:8080/"
        },
        "id": "yXsOCvl8lvlt",
        "outputId": "f38df8bb-da61-4b2c-a8d8-80c3d6d5fa1e"
      },
      "execution_count": null,
      "outputs": [
        {
          "output_type": "stream",
          "name": "stdout",
          "text": [
            "['Java', 'JavaScript']\n"
          ]
        }
      ]
    },
    {
      "cell_type": "code",
      "source": [
        "linguagens = '''Python Java JavaScript C C# C++ Swift Go Kotlin'''.split()\n",
        "linguagens_java = []\n",
        "for item in linguagens:\n",
        " if \"Java\" in item:\n",
        "  linguagens_java.append(item)\n",
        "print(linguagens_java)\n"
      ],
      "metadata": {
        "colab": {
          "base_uri": "https://localhost:8080/"
        },
        "id": "EwLGM32blwpF",
        "outputId": "0f894e2f-1487-4af0-f442-cf7c0f94b247"
      },
      "execution_count": null,
      "outputs": [
        {
          "output_type": "stream",
          "name": "stdout",
          "text": [
            "['Java', 'JavaScript']\n"
          ]
        }
      ]
    },
    {
      "cell_type": "code",
      "source": [
        "# Exemplo 1\n",
        "print(\"Exemplo 1\")\n",
        "linguagens = '''Python Java JavaScript C C# C++ Swift Go Kotlin'''.split()\n",
        "nova_lista = map(lambda x: x.lower(), linguagens)\n",
        "print(f\"A nova lista é = {nova_lista}\\n\")\n",
        "nova_lista = list(nova_lista)\n",
        "print(f\"Agora sim, a nova lista é = {nova_lista}\")\n",
        "# Exemplo 2\n",
        "print(\"\\n\\nExemplo 2\")\n",
        "numeros = [0, 1, 2, 3, 4, 5]\n",
        "quadrados = list(map(lambda x: x*x, numeros))\n",
        "print(f\"Lista com o número elevado a ele mesmo = {quadrados}\\n\")"
      ],
      "metadata": {
        "colab": {
          "base_uri": "https://localhost:8080/"
        },
        "id": "g4N3QGzul75c",
        "outputId": "17536293-0f63-4c1a-c170-6b414fdb75e9"
      },
      "execution_count": null,
      "outputs": [
        {
          "output_type": "stream",
          "name": "stdout",
          "text": [
            "Exemplo 1\n",
            "A nova lista é = <map object at 0x7970734191e0>\n",
            "\n",
            "Agora sim, a nova lista é = ['python', 'java', 'javascript', 'c', 'c#', 'c++', 'swift', 'go', 'kotlin']\n",
            "\n",
            "\n",
            "Exemplo 2\n",
            "Lista com o número elevado a ele mesmo = [0, 1, 4, 9, 16, 25]\n",
            "\n"
          ]
        }
      ]
    },
    {
      "cell_type": "code",
      "source": [
        "numeros = list(range(0, 21))\n",
        "numeros_pares = list(filter(lambda x: x % 2 == 0, numeros))\n",
        "print(numeros_pares)"
      ],
      "metadata": {
        "colab": {
          "base_uri": "https://localhost:8080/"
        },
        "id": "W2ZKekzHmIaM",
        "outputId": "522ff5dc-a9eb-4b75-ff8a-239ea48aea24"
      },
      "execution_count": null,
      "outputs": [
        {
          "output_type": "stream",
          "name": "stdout",
          "text": [
            "[0, 2, 4, 6, 8, 10, 12, 14, 16, 18, 20]\n"
          ]
        }
      ]
    },
    {
      "cell_type": "code",
      "source": [
        "vogais = ('a', 'e', 'i', 'o', 'u')\n",
        "print(f\"Tipo do objeto vogais = {type(vogais)}\")\n",
        "for p, x in enumerate(vogais):\n",
        " print(f\"Posição = {p}, valor = {x}\")\n"
      ],
      "metadata": {
        "colab": {
          "base_uri": "https://localhost:8080/"
        },
        "id": "P_H9ldcymLts",
        "outputId": "26943061-2b27-4e1a-def8-e0ecab79eacc"
      },
      "execution_count": null,
      "outputs": [
        {
          "output_type": "stream",
          "name": "stdout",
          "text": [
            "Tipo do objeto vogais = <class 'tuple'>\n",
            "Posição = 0, valor = a\n",
            "Posição = 1, valor = e\n",
            "Posição = 2, valor = i\n",
            "Posição = 3, valor = o\n",
            "Posição = 4, valor = u\n"
          ]
        }
      ]
    },
    {
      "cell_type": "code",
      "source": [
        "vogais = ('a', 'e', 'i', 'o', 'u')\n",
        "for item in enumerate(vogais):\n",
        " print(item)\n"
      ],
      "metadata": {
        "colab": {
          "base_uri": "https://localhost:8080/"
        },
        "id": "hKhWqWZMmV28",
        "outputId": "e9b2f29d-5c4c-4549-fe7e-30df66ce2695"
      },
      "execution_count": null,
      "outputs": [
        {
          "output_type": "stream",
          "name": "stdout",
          "text": [
            "(0, 'a')\n",
            "(1, 'e')\n",
            "(2, 'i')\n",
            "(3, 'o')\n",
            "(4, 'u')\n"
          ]
        }
      ]
    },
    {
      "cell_type": "code",
      "source": [
        "vogais_1 = {'aeiou'}\n",
        "print(type(vogais_1), vogais_1)\n",
        "vogais_2 = set('aeiouaaaaaa')\n",
        "print(type(vogais_2), vogais_2)\n",
        "vogais_3 = set(['a', 'e', 'i', 'o', 'u'])\n",
        "print(type(vogais_3), vogais_3)\n",
        "vogais_4 = set(('a', 'e', 'i', 'o', 'u'))\n",
        "print(type(vogais_4), vogais_4)\n",
        "print(set('banana'))\n"
      ],
      "metadata": {
        "colab": {
          "base_uri": "https://localhost:8080/"
        },
        "id": "gxxfUk65mZPc",
        "outputId": "e3953da3-e6f8-49d7-f18d-3a14501c2578"
      },
      "execution_count": null,
      "outputs": [
        {
          "output_type": "stream",
          "name": "stdout",
          "text": [
            "<class 'set'> {'aeiou'}\n",
            "<class 'set'> {'u', 'a', 'e', 'o', 'i'}\n",
            "<class 'set'> {'u', 'a', 'e', 'o', 'i'}\n",
            "<class 'set'> {'u', 'a', 'e', 'o', 'i'}\n",
            "{'a', 'b', 'n'}\n"
          ]
        }
      ]
    },
    {
      "cell_type": "code",
      "source": [
        "def create_report():\n",
        " componentes_verificados = set(['caixas de som', 'cooler', 'dissipador de calor', 'cpu', 'hd', 'estabilizador', 'gabinete', 'hub', 'impressora',\n",
        "'joystick', 'memória ram', 'microfone', 'modem', 'monitor', 'mouse', 'nobreak', 'placa de captura', 'placa de som', 'placa de vídeo', 'placa mãe', 'scanner', 'teclado', 'webcam'])\n",
        " componentes_com_defeito = set(['hd', 'monitor', 'placa de som','scanner'])\n",
        "\n",
        " qtde_componentes_verificados = len(componentes_verificados)\n",
        " qtde_componentes_com_defeito = len(componentes_com_defeito)\n",
        "\n",
        " componentes_ok =componentes_verificados.difference(componentes_com_defeito)\n",
        "\n",
        " print(f\"Foram verificados {qtde_componentes_verificados} componentes.\\n\")\n",
        " print(f\"{qtde_componentes_com_defeito} componentes apresentaram defeito.\\n\")\n",
        "\n",
        " print(\"Os componentes que podem ser vendidos são:\")\n",
        " for item in componentes_ok:\n",
        "  print(item)\n",
        "create_report()\n"
      ],
      "metadata": {
        "colab": {
          "base_uri": "https://localhost:8080/"
        },
        "id": "RbSxx80_mig8",
        "outputId": "9c99a4a0-c8df-4453-b3ed-178a339f7f7b"
      },
      "execution_count": null,
      "outputs": [
        {
          "output_type": "stream",
          "name": "stdout",
          "text": [
            "Foram verificados 23 componentes.\n",
            "\n",
            "4 componentes apresentaram defeito.\n",
            "\n",
            "Os componentes que podem ser vendidos são:\n",
            "webcam\n",
            "impressora\n",
            "hub\n",
            "mouse\n",
            "placa de vídeo\n",
            "placa de captura\n",
            "caixas de som\n",
            "estabilizador\n",
            "modem\n",
            "nobreak\n",
            "memória ram\n",
            "placa mãe\n",
            "gabinete\n",
            "dissipador de calor\n",
            "joystick\n",
            "microfone\n",
            "teclado\n",
            "cpu\n",
            "cooler\n"
          ]
        }
      ]
    },
    {
      "cell_type": "code",
      "source": [
        "# Exemplo 1 - Criação de dicionário vazio, com atribuição posterior de chave e valor\n",
        "dici_1 = {}\n",
        "dici_1['nome'] = \"João\"\n",
        "dici_1['idade'] = 30\n",
        "# Exemplo 2 - Criação de dicionário usando um par elementos na forma, chave : valor\n",
        "dici_2 = {'nome': 'João', 'idade': 30}\n",
        "# Exemplo 3 - Criação de dicionário com uma lista de tuplas. Cada tupla representa um par chave : valor\n",
        "dici_3 = dict([('nome', \"João\"), ('idade', 30)])\n",
        "# Exemplo 4 - Criação de dicionário com a função built-in zip() e duas listas, uma com as chaves, outra com os valores.\n",
        "dici_4 = dict(zip(['nome', 'idade'], [\"João\", 30]))\n",
        "print(dici_1 == dici_2 == dici_3 == dici_4) # Testando se as diferentes construções resultam em objetos iguais."
      ],
      "metadata": {
        "colab": {
          "base_uri": "https://localhost:8080/"
        },
        "id": "Zmz2D4v4moCM",
        "outputId": "51f5c459-0be7-40ee-dfb9-4f81a03c7d5a"
      },
      "execution_count": null,
      "outputs": [
        {
          "output_type": "stream",
          "name": "stdout",
          "text": [
            "True\n"
          ]
        }
      ]
    },
    {
      "cell_type": "code",
      "source": [
        "cadastro = {\n",
        " 'nome' : ['João', 'Ana', 'Pedro', 'Marcela'],\n",
        " 'cidade' : ['São Paulo', 'São Paulo', 'Rio de Janeiro', 'Curitiba'],\n",
        " 'idade' : [25, 33, 37, 18]\n",
        " }\n",
        "print(\"len(cadastro) = \", len(cadastro))\n",
        "print(\"\\n cadastro.keys() = \\n\", cadastro.keys())\n",
        "print(\"\\n cadastro.values() = \\n\", cadastro.values())\n",
        "print(\"\\n cadastro.items() = \\n\", cadastro.items())\n",
        "print(\"\\n cadastro['nome'] = \", cadastro['nome'])\n",
        "print(\"\\n cadastro['nome'][2] = \", cadastro['nome'][2])\n",
        "print(\"\\n cadastro['idade'][2:] = \", cadastro['idade'][2:])"
      ],
      "metadata": {
        "colab": {
          "base_uri": "https://localhost:8080/"
        },
        "id": "nyWdKBYknY38",
        "outputId": "505fd8ef-ef4c-4702-b88e-adc1030e66f0"
      },
      "execution_count": null,
      "outputs": [
        {
          "output_type": "stream",
          "name": "stdout",
          "text": [
            "len(cadastro) =  3\n",
            "\n",
            " cadastro.keys() = \n",
            " dict_keys(['nome', 'cidade', 'idade'])\n",
            "\n",
            " cadastro.values() = \n",
            " dict_values([['João', 'Ana', 'Pedro', 'Marcela'], ['São Paulo', 'São Paulo', 'Rio de Janeiro', 'Curitiba'], [25, 33, 37, 18]])\n",
            "\n",
            " cadastro.items() = \n",
            " dict_items([('nome', ['João', 'Ana', 'Pedro', 'Marcela']), ('cidade', ['São Paulo', 'São Paulo', 'Rio de Janeiro', 'Curitiba']), ('idade', [25, 33, 37, 18])])\n",
            "\n",
            " cadastro['nome'] =  ['João', 'Ana', 'Pedro', 'Marcela']\n",
            "\n",
            " cadastro['nome'][2] =  Pedro\n",
            "\n",
            " cadastro['idade'][2:] =  [37, 18]\n"
          ]
        }
      ]
    },
    {
      "cell_type": "code",
      "source": [
        "cadastro = {\n",
        " 'nome' : ['João', 'Ana', 'Pedro', 'Marcela'],\n",
        " 'cidade' : ['São Paulo', 'São Paulo', 'Rio de Janeiro', 'Curitiba'],\n",
        " 'idade' : [25, 33, 37, 18]\n",
        " }\n",
        "print(\"len(cadastro) = \", len(cadastro))\n",
        "print(\"\\n cadastro.keys() = \\n\", cadastro.keys())\n",
        "print(\"\\n cadastro.values() = \\n\", cadastro.values())\n",
        "print(\"\\n cadastro.items() = \\n\", cadastro.items())\n",
        "\n",
        "print(\"\\n cadastro['nome'] = \", cadastro['nome'])\n",
        "print(\"\\n cadastro['nome'][2] = \", cadastro['nome'][2])\n",
        "print(\"\\n cadastro['idade'][2:] = \", cadastro['idade'][2:])"
      ],
      "metadata": {
        "colab": {
          "base_uri": "https://localhost:8080/"
        },
        "id": "a53SrAtannBE",
        "outputId": "d234c0e2-c19b-45e4-f9c3-314532f4b3dc"
      },
      "execution_count": 2,
      "outputs": [
        {
          "output_type": "stream",
          "name": "stdout",
          "text": [
            "len(cadastro) =  3\n",
            "\n",
            " cadastro.keys() = \n",
            " dict_keys(['nome', 'cidade', 'idade'])\n",
            "\n",
            " cadastro.values() = \n",
            " dict_values([['João', 'Ana', 'Pedro', 'Marcela'], ['São Paulo', 'São Paulo', 'Rio de Janeiro', 'Curitiba'], [25, 33, 37, 18]])\n",
            "\n",
            " cadastro.items() = \n",
            " dict_items([('nome', ['João', 'Ana', 'Pedro', 'Marcela']), ('cidade', ['São Paulo', 'São Paulo', 'Rio de Janeiro', 'Curitiba']), ('idade', [25, 33, 37, 18])])\n",
            "\n",
            " cadastro['nome'] =  ['João', 'Ana', 'Pedro', 'Marcela']\n",
            "\n",
            " cadastro['nome'][2] =  Pedro\n",
            "\n",
            " cadastro['idade'][2:] =  [37, 18]\n"
          ]
        }
      ]
    },
    {
      "cell_type": "code",
      "source": [
        "print(len(cadastro['nome']))\n",
        "print(len(cadastro['cidade']))\n",
        "print(len(cadastro['idade']))\n",
        "qtde_itens = sum([len(cadastro[chave]) for chave in cadastro])\n",
        "print(f\"\\n\\nQuantidade de elementos no dicionário = {qtde_itens}\")"
      ],
      "metadata": {
        "colab": {
          "base_uri": "https://localhost:8080/"
        },
        "id": "kiGeMqPBoMIL",
        "outputId": "3b418b15-fec7-412e-c4ff-8b114f5b25b6"
      },
      "execution_count": null,
      "outputs": [
        {
          "output_type": "stream",
          "name": "stdout",
          "text": [
            "4\n",
            "4\n",
            "4\n",
            "\n",
            "\n",
            "Quantidade de elementos no dicionário = 12\n"
          ]
        }
      ]
    },
    {
      "cell_type": "code",
      "source": [
        "import numpy\n",
        "matriz_1_1 = numpy.array([1, 2, 3]) # Cria matriz 1 linha e 1 coluna\n",
        "matriz_2_2 = numpy.array([[1, 2], [3, 4]]) # Cria matriz 2 linhas e 2 colunas\n",
        "matriz_3_2 = numpy.array([[1, 2], [3, 4], [5, 6]]) # Cria matriz 3 linhas e 2 colunas\n",
        "matriz_2_3 = numpy.array([[1, 2, 3], [4, 5, 6]]) # Cria matriz 2 linhas e 3 colunas\n",
        "print(type(matriz_1_1))\n",
        "print('\\n matriz_1_1 = ', matriz_1_1)\n",
        "print('\\n matriz_2_2 = \\n', matriz_2_2)\n",
        "print('\\n matriz_3_2 = \\n', matriz_3_2)\n",
        "print('\\n matriz_2_3 = \\n', matriz_2_3)"
      ],
      "metadata": {
        "colab": {
          "base_uri": "https://localhost:8080/"
        },
        "id": "5oKXzlzuqFa1",
        "outputId": "0aeffc3d-ab9b-4fd9-d179-00ff60292a52"
      },
      "execution_count": null,
      "outputs": [
        {
          "output_type": "stream",
          "name": "stdout",
          "text": [
            "<class 'numpy.ndarray'>\n",
            "\n",
            " matriz_1_1 =  [1 2 3]\n",
            "\n",
            " matriz_2_2 = \n",
            " [[1 2]\n",
            " [3 4]]\n",
            "\n",
            " matriz_3_2 = \n",
            " [[1 2]\n",
            " [3 4]\n",
            " [5 6]]\n",
            "\n",
            " matriz_2_3 = \n",
            " [[1 2 3]\n",
            " [4 5 6]]\n"
          ]
        }
      ]
    },
    {
      "cell_type": "code",
      "source": [
        "m1 = numpy.zeros((3, 3)) # Cria matriz 3 x 3 somente com zero\n",
        "m2 = numpy.ones((2,2)) # Cria matriz 2 x 2 somente com um\n",
        "m3 = numpy.eye(4) # Cria matriz 4 x 4 identidade\n",
        "m4 = numpy.random.randint(low=0, high=100, size=10).reshape(2, 5) # Cria matriz 2 X 5 com números inteiros\n",
        "print('\\n numpy.zeros((3, 3)) = \\n', numpy.zeros((3, 3)))\n",
        "print('\\n numpy.ones((2,2)) = \\n', numpy.ones((2,2)))\n",
        "print('\\n numpy.eye(4) = \\n', numpy.eye(4))\n",
        "print('\\n m4 = \\n', m4)\n",
        "print(f\"Soma dos valores em m4 = {m4.sum()}\")\n",
        "print(f\"Valor mínimo em m4 = {m4.min()}\")\n",
        "print(f\"Valor máximo em m4 = {m4.max()}\")\n",
        "print(f\"Média dos valores em m4 = {m4.mean()}\")\n"
      ],
      "metadata": {
        "colab": {
          "base_uri": "https://localhost:8080/"
        },
        "id": "K3-QOWJWqJg7",
        "outputId": "a1258d66-8c53-4139-b494-600971f4fa60"
      },
      "execution_count": null,
      "outputs": [
        {
          "output_type": "stream",
          "name": "stdout",
          "text": [
            "\n",
            " numpy.zeros((3, 3)) = \n",
            " [[0. 0. 0.]\n",
            " [0. 0. 0.]\n",
            " [0. 0. 0.]]\n",
            "\n",
            " numpy.ones((2,2)) = \n",
            " [[1. 1.]\n",
            " [1. 1.]]\n",
            "\n",
            " numpy.eye(4) = \n",
            " [[1. 0. 0. 0.]\n",
            " [0. 1. 0. 0.]\n",
            " [0. 0. 1. 0.]\n",
            " [0. 0. 0. 1.]]\n",
            "\n",
            " m4 = \n",
            " [[90 88 15 93  7]\n",
            " [92 22 18 65 66]]\n",
            "Soma dos valores em m4 = 556\n",
            "Valor mínimo em m4 = 7\n",
            "Valor máximo em m4 = 93\n",
            "Média dos valores em m4 = 55.6\n"
          ]
        }
      ]
    },
    {
      "cell_type": "code",
      "source": [],
      "metadata": {
        "id": "BHcAZuGOqRML"
      },
      "execution_count": null,
      "outputs": []
    }
  ]
}